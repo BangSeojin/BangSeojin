{
 "cells": [
  {
   "cell_type": "code",
   "execution_count": 42,
   "metadata": {},
   "outputs": [
    {
     "name": "stdout",
     "output_type": "stream",
     "text": [
      "   Unnamed: 0     name  age  salary\n",
      "0           0    Alice   25   50000\n",
      "1           1      Bob   30   60000\n",
      "2           2  Charlie   35   70000\n",
      "3           3    james   30  400000\n",
      "4           4    Alice   25   50000\n",
      "5           5      Bob   30   60000\n",
      "6           6  Charlie   35   70000\n",
      "7           7    james   30  400000\n"
     ]
    }
   ],
   "source": [
    "import pandas as pd\n",
    "\n",
    "data = pd.read_csv('my_data.csv')\n",
    "\n",
    "print(data)"
   ]
  },
  {
   "cell_type": "code",
   "execution_count": 43,
   "metadata": {},
   "outputs": [
    {
     "name": "stdout",
     "output_type": "stream",
     "text": [
      "   번호     name  age  salary\n",
      "0   0    Alice   25   50000\n",
      "1   1      Bob   30   60000\n",
      "2   2  Charlie   35   70000\n",
      "3   3    james   30  400000\n",
      "4   4    Alice   25   50000\n",
      "5   5      Bob   30   60000\n",
      "6   6  Charlie   35   70000\n",
      "7   7    james   30  400000\n"
     ]
    }
   ],
   "source": [
    "data.rename(columns={'Unnamed: 0': '번호'}, inplace=True)\n",
    "\n",
    "print(data)"
   ]
  },
  {
   "cell_type": "code",
   "execution_count": 44,
   "metadata": {},
   "outputs": [
    {
     "name": "stdout",
     "output_type": "stream",
     "text": [
      "      name  age  salary\n",
      "0    Alice   25   50000\n",
      "1      Bob   30   60000\n",
      "2  Charlie   35   70000\n",
      "3    james   30  400000\n",
      "4    Alice   25   50000\n",
      "5      Bob   30   60000\n",
      "6  Charlie   35   70000\n",
      "7    james   30  400000\n"
     ]
    }
   ],
   "source": [
    "data = data.drop('번호', axis=1)\n",
    "\n",
    "print(data)"
   ]
  },
  {
   "cell_type": "code",
   "execution_count": 45,
   "metadata": {},
   "outputs": [
    {
     "name": "stdout",
     "output_type": "stream",
     "text": [
      "  name  age  salary\n",
      "0  앨리스   25   50000\n",
      "1    밥   30   60000\n",
      "2   찰리   35   70000\n",
      "3  제임스   30  400000\n",
      "4  앨리스   25   50000\n",
      "5    밥   30   60000\n",
      "6   찰리   35   70000\n",
      "7  제임스   30  400000\n"
     ]
    }
   ],
   "source": [
    "name_dict = {'Alice': '앨리스', 'Bob': '밥', 'Charlie': '찰리', 'james': '제임스'}\n",
    "data['name'] = data['name'].map(name_dict)\n",
    "\n",
    "print(data)"
   ]
  },
  {
   "cell_type": "code",
   "execution_count": 46,
   "metadata": {},
   "outputs": [
    {
     "name": "stdout",
     "output_type": "stream",
     "text": [
      "  name  age   salary\n",
      "0  앨리스   25   50,000\n",
      "1    밥   30   60,000\n",
      "2   찰리   35   70,000\n",
      "3  제임스   30  400,000\n",
      "4  앨리스   25   50,000\n",
      "5    밥   30   60,000\n",
      "6   찰리   35   70,000\n",
      "7  제임스   30  400,000\n"
     ]
    }
   ],
   "source": [
    "data['salary'] = data['salary'].apply(lambda x: '{0:,}'.format(x))\n",
    "\n",
    "print(data)"
   ]
  },
  {
   "cell_type": "code",
   "execution_count": 48,
   "metadata": {},
   "outputs": [
    {
     "name": "stdout",
     "output_type": "stream",
     "text": [
      "name  age  salary\n",
      " 앨리스   25  50,000\n",
      "   밥   30  60,000\n",
      "  찰리   35  70,000\n",
      " 제임스   30 400,000\n",
      " 앨리스   25  50,000\n",
      "   밥   30  60,000\n",
      "  찰리   35  70,000\n",
      " 제임스   30 400,000\n"
     ]
    }
   ],
   "source": [
    "print(data.to_string(index=False))"
   ]
  },
  {
   "cell_type": "code",
   "execution_count": 47,
   "metadata": {},
   "outputs": [],
   "source": [
    "data.to_csv('my_data_20230801.csv')"
   ]
  }
 ],
 "metadata": {
  "kernelspec": {
   "display_name": "Python 3",
   "language": "python",
   "name": "python3"
  },
  "language_info": {
   "codemirror_mode": {
    "name": "ipython",
    "version": 3
   },
   "file_extension": ".py",
   "mimetype": "text/x-python",
   "name": "python",
   "nbconvert_exporter": "python",
   "pygments_lexer": "ipython3",
   "version": "3.11.4"
  },
  "orig_nbformat": 4
 },
 "nbformat": 4,
 "nbformat_minor": 2
}
